{
 "cells": [
  {
   "cell_type": "markdown",
   "id": "5349f4a2",
   "metadata": {},
   "source": [
    "## Import libraries"
   ]
  },
  {
   "cell_type": "code",
   "execution_count": 3,
   "id": "ac2e875f",
   "metadata": {},
   "outputs": [],
   "source": [
    "import tkinter as tk\n",
    "from tkinter import messagebox\n",
    "import random\n",
    "import string"
   ]
  },
  {
   "cell_type": "markdown",
   "id": "2afd219c",
   "metadata": {},
   "source": [
    "## Function to generate a random password"
   ]
  },
  {
   "cell_type": "code",
   "execution_count": 5,
   "id": "3ddf3b91",
   "metadata": {},
   "outputs": [],
   "source": [
    "def generate_password():\n",
    "    password_length = int(length_entry.get())\n",
    "    \n",
    "    if password_length <= 0:\n",
    "        messagebox.showerror(\"Error\", \"Password length must be greater than 0\")\n",
    "        return\n",
    "    \n",
    "    characters = string.ascii_letters + string.digits + string.punctuation\n",
    "    password = ''.join(random.choice(characters) for i in range(password_length))\n",
    "    \n",
    "    password_entry.delete(0, tk.END)\n",
    "    password_entry.insert(0, password)"
   ]
  },
  {
   "cell_type": "markdown",
   "id": "b45fba6c",
   "metadata": {},
   "source": [
    "## Create the main window"
   ]
  },
  {
   "cell_type": "code",
   "execution_count": 7,
   "id": "1942da09",
   "metadata": {},
   "outputs": [
    {
     "data": {
      "text/plain": [
       "''"
      ]
     },
     "execution_count": 7,
     "metadata": {},
     "output_type": "execute_result"
    }
   ],
   "source": [
    "root = tk.Tk()\n",
    "root.title(\"Password Generator\")"
   ]
  },
  {
   "cell_type": "markdown",
   "id": "b90bd0e6",
   "metadata": {},
   "source": [
    "## Label and entry for password length"
   ]
  },
  {
   "cell_type": "code",
   "execution_count": 9,
   "id": "33d2bbb6",
   "metadata": {},
   "outputs": [],
   "source": [
    "length_label = tk.Label(root, text=\"Password Length:\")\n",
    "length_label.pack()\n",
    "\n",
    "length_entry = tk.Entry(root)\n",
    "length_entry.pack()"
   ]
  },
  {
   "cell_type": "markdown",
   "id": "bcb21140",
   "metadata": {},
   "source": [
    "## Button to generate password"
   ]
  },
  {
   "cell_type": "code",
   "execution_count": 11,
   "id": "5869d9f5",
   "metadata": {},
   "outputs": [],
   "source": [
    "generate_button = tk.Button(root, text=\"Generate Password\", command=generate_password)\n",
    "generate_button.pack()"
   ]
  },
  {
   "cell_type": "markdown",
   "id": "ae0fcc46",
   "metadata": {},
   "source": [
    "## Label and entry to display the generated password"
   ]
  },
  {
   "cell_type": "code",
   "execution_count": 13,
   "id": "7f713c12",
   "metadata": {},
   "outputs": [],
   "source": [
    "password_label = tk.Label(root, text=\"Generated Password:\")\n",
    "password_label.pack()\n",
    "\n",
    "password_entry = tk.Entry(root)\n",
    "password_entry.pack()\n"
   ]
  },
  {
   "cell_type": "code",
   "execution_count": null,
   "id": "313c20ff",
   "metadata": {},
   "outputs": [],
   "source": [
    "root.mainloop()\n"
   ]
  }
 ],
 "metadata": {
  "kernelspec": {
   "display_name": "Python 3 (ipykernel)",
   "language": "python",
   "name": "python3"
  },
  "language_info": {
   "codemirror_mode": {
    "name": "ipython",
    "version": 3
   },
   "file_extension": ".py",
   "mimetype": "text/x-python",
   "name": "python",
   "nbconvert_exporter": "python",
   "pygments_lexer": "ipython3",
   "version": "3.10.9"
  }
 },
 "nbformat": 4,
 "nbformat_minor": 5
}
