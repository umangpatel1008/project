{
 "cells": [
  {
   "cell_type": "code",
   "execution_count": 1,
   "id": "7a3b8ce1",
   "metadata": {},
   "outputs": [],
   "source": [
    "import tkinter as tk\n",
    "\n",
    "def button_click(number):\n",
    "    current = entry.get()\n",
    "    entry.delete(0, tk.END)\n",
    "    entry.insert(0, current + str(number))\n",
    "\n",
    "def button_clear():\n",
    "    entry.delete(0, tk.END)\n",
    "\n",
    "def button_equal():\n",
    "    current = entry.get()\n",
    "    try:\n",
    "        result = eval(current)\n",
    "        entry.delete(0, tk.END)\n",
    "        entry.insert(0, result)\n",
    "    except Exception as e:\n",
    "        entry.delete(0, tk.END)\n",
    "        entry.insert(0, \"Error\")"
   ]
  },
  {
   "cell_type": "markdown",
   "id": "e22958b5",
   "metadata": {},
   "source": [
    "## Create the main window"
   ]
  },
  {
   "cell_type": "code",
   "execution_count": 2,
   "id": "5816e404",
   "metadata": {},
   "outputs": [
    {
     "data": {
      "text/plain": [
       "''"
      ]
     },
     "execution_count": 2,
     "metadata": {},
     "output_type": "execute_result"
    }
   ],
   "source": [
    "root = tk.Tk()\n",
    "root.title(\"Calculator\")"
   ]
  },
  {
   "cell_type": "markdown",
   "id": "ba755d30",
   "metadata": {},
   "source": [
    "## Entry widget to display input and results"
   ]
  },
  {
   "cell_type": "code",
   "execution_count": 3,
   "id": "79d75310",
   "metadata": {},
   "outputs": [],
   "source": [
    "entry = tk.Entry(root, width=20, borderwidth=5)\n",
    "entry.grid(row=0, column=0, columnspan=4)"
   ]
  },
  {
   "cell_type": "markdown",
   "id": "143dbaf0",
   "metadata": {},
   "source": [
    "## Define the buttons\n"
   ]
  },
  {
   "cell_type": "code",
   "execution_count": 4,
   "id": "95ba5d7f",
   "metadata": {},
   "outputs": [],
   "source": [
    "buttons = [\n",
    "    '7', '8', '9', '/',\n",
    "    '4', '5', '6', '*',\n",
    "    '1', '2', '3', '-',\n",
    "    '0', '.', '=', '+'\n",
    "]"
   ]
  },
  {
   "cell_type": "markdown",
   "id": "a576150b",
   "metadata": {},
   "source": [
    "## Create and place the buttons on the grid"
   ]
  },
  {
   "cell_type": "code",
   "execution_count": 5,
   "id": "de0ab4ed",
   "metadata": {},
   "outputs": [],
   "source": [
    "row_val = 1\n",
    "col_val = 0\n",
    "for button in buttons:\n",
    "    if button == '=':\n",
    "        tk.Button(root, text=button, padx=20, pady=20, command=button_equal).grid(row=row_val, column=col_val)\n",
    "    else:\n",
    "        tk.Button(root, text=button, padx=20, pady=20, command=lambda b=button: button_click(b)).grid(row=row_val, column=col_val)\n",
    "    col_val += 1\n",
    "    if col_val > 3:\n",
    "        col_val = 0\n",
    "        row_val += 1"
   ]
  },
  {
   "cell_type": "markdown",
   "id": "9fef9050",
   "metadata": {},
   "source": [
    "## Clear button"
   ]
  },
  {
   "cell_type": "code",
   "execution_count": 6,
   "id": "0d1d541f",
   "metadata": {},
   "outputs": [],
   "source": [
    "clear_button = tk.Button(root, text=\"C\", padx=20, pady=20, command=button_clear)\n",
    "clear_button.grid(row=row_val, column=col_val)"
   ]
  },
  {
   "cell_type": "markdown",
   "id": "24d73898",
   "metadata": {},
   "source": [
    "## Start the GUI main loop"
   ]
  },
  {
   "cell_type": "code",
   "execution_count": null,
   "id": "ecf2a077",
   "metadata": {},
   "outputs": [],
   "source": [
    "root.mainloop()"
   ]
  },
  {
   "cell_type": "code",
   "execution_count": null,
   "id": "fd37484c",
   "metadata": {},
   "outputs": [],
   "source": []
  }
 ],
 "metadata": {
  "kernelspec": {
   "display_name": "Python 3 (ipykernel)",
   "language": "python",
   "name": "python3"
  },
  "language_info": {
   "codemirror_mode": {
    "name": "ipython",
    "version": 3
   },
   "file_extension": ".py",
   "mimetype": "text/x-python",
   "name": "python",
   "nbconvert_exporter": "python",
   "pygments_lexer": "ipython3",
   "version": "3.10.9"
  }
 },
 "nbformat": 4,
 "nbformat_minor": 5
}
